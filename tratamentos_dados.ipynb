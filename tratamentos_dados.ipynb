{
 "cells": [
  {
   "cell_type": "code",
   "execution_count": 21,
   "id": "35e6d592",
   "metadata": {},
   "outputs": [],
   "source": [
    "import pandas as pd"
   ]
  },
  {
   "cell_type": "code",
   "execution_count": 36,
   "id": "0fee374b",
   "metadata": {},
   "outputs": [],
   "source": [
    "link_treino = 'dados_csv/train.csv'\n",
    "link_teste = 'dados_csv/sample_submission.csv'\n",
    "\n",
    "df_train = pd.read_csv(link_treino)\n",
    "df_test = pd.read_csv(link_teste)"
   ]
  },
  {
   "cell_type": "code",
   "execution_count": 48,
   "id": "49342f92",
   "metadata": {},
   "outputs": [
    {
     "name": "stdout",
     "output_type": "stream",
     "text": [
      "<class 'pandas.core.frame.DataFrame'>\n",
      "RangeIndex: 3662 entries, 0 to 3661\n",
      "Data columns (total 2 columns):\n",
      " #   Column     Non-Null Count  Dtype \n",
      "---  ------     --------------  ----- \n",
      " 0   id_code    3662 non-null   object\n",
      " 1   diagnosis  3662 non-null   int64 \n",
      "dtypes: int64(1), object(1)\n",
      "memory usage: 57.3+ KB\n"
     ]
    }
   ],
   "source": [
    "df_train.info()"
   ]
  },
  {
   "cell_type": "code",
   "execution_count": 39,
   "id": "65659965",
   "metadata": {},
   "outputs": [
    {
     "data": {
      "application/vnd.microsoft.datawrangler.viewer.v0+json": {
       "columns": [
        {
         "name": "index",
         "rawType": "int64",
         "type": "integer"
        },
        {
         "name": "id_code",
         "rawType": "object",
         "type": "string"
        },
        {
         "name": "diagnosis",
         "rawType": "int64",
         "type": "integer"
        }
       ],
       "ref": "c5dedb54-207c-4e99-a19e-40c682315377",
       "rows": [
        [
         "0",
         "0005cfc8afb6",
         "0"
        ],
        [
         "1",
         "003f0afdcd15",
         "0"
        ],
        [
         "2",
         "006efc72b638",
         "0"
        ],
        [
         "3",
         "00836aaacf06",
         "0"
        ],
        [
         "4",
         "009245722fa4",
         "0"
        ],
        [
         "5",
         "009c019a7309",
         "0"
        ],
        [
         "6",
         "010d915e229a",
         "0"
        ],
        [
         "7",
         "0111b949947e",
         "0"
        ],
        [
         "8",
         "01499815e469",
         "0"
        ],
        [
         "9",
         "0167076e7089",
         "0"
        ],
        [
         "10",
         "01c31b10ab99",
         "0"
        ],
        [
         "11",
         "01c5ba195207",
         "0"
        ],
        [
         "12",
         "01e4d86b3a30",
         "0"
        ],
        [
         "13",
         "020921b796d5",
         "0"
        ],
        [
         "14",
         "020f6983114d",
         "0"
        ],
        [
         "15",
         "021c207614d6",
         "0"
        ],
        [
         "16",
         "0229c0a80d42",
         "0"
        ],
        [
         "17",
         "024d0a225db1",
         "0"
        ],
        [
         "18",
         "0268f4382c67",
         "0"
        ],
        [
         "19",
         "0299d97f31f7",
         "0"
        ],
        [
         "20",
         "03042a663e54",
         "0"
        ],
        [
         "21",
         "030e06ddbb04",
         "0"
        ],
        [
         "22",
         "033cdbbbdfaa",
         "0"
        ],
        [
         "23",
         "03be80919be4",
         "0"
        ],
        [
         "24",
         "03eaa4eef484",
         "0"
        ],
        [
         "25",
         "0434995d0654",
         "0"
        ],
        [
         "26",
         "04a0773c71fb",
         "0"
        ],
        [
         "27",
         "04e1b77ef107",
         "0"
        ],
        [
         "28",
         "051d9d12a6ee",
         "0"
        ],
        [
         "29",
         "052e00f47cfa",
         "0"
        ],
        [
         "30",
         "06035cfbcc18",
         "0"
        ],
        [
         "31",
         "061e7dab2b76",
         "0"
        ],
        [
         "32",
         "0622a0f615db",
         "0"
        ],
        [
         "33",
         "062ed40f5272",
         "0"
        ],
        [
         "34",
         "0654cdd3c01a",
         "0"
        ],
        [
         "35",
         "065cb18bb0b2",
         "0"
        ],
        [
         "36",
         "069037e82135",
         "0"
        ],
        [
         "37",
         "069ebdb1023d",
         "0"
        ],
        [
         "38",
         "06cdd3f3f262",
         "0"
        ],
        [
         "39",
         "06daa7390238",
         "0"
        ],
        [
         "40",
         "06e60df1823e",
         "0"
        ],
        [
         "41",
         "0737dfb0a164",
         "0"
        ],
        [
         "42",
         "0749255f718d",
         "0"
        ],
        [
         "43",
         "07685fac659a",
         "0"
        ],
        [
         "44",
         "079e029f3b2e",
         "0"
        ],
        [
         "45",
         "07d8d154e752",
         "0"
        ],
        [
         "46",
         "081c7ec32f27",
         "0"
        ],
        [
         "47",
         "082c7ccb536a",
         "0"
        ],
        [
         "48",
         "082fc6f323a1",
         "0"
        ],
        [
         "49",
         "086727c22b75",
         "0"
        ]
       ],
       "shape": {
        "columns": 2,
        "rows": 1928
       }
      },
      "text/html": [
       "<div>\n",
       "<style scoped>\n",
       "    .dataframe tbody tr th:only-of-type {\n",
       "        vertical-align: middle;\n",
       "    }\n",
       "\n",
       "    .dataframe tbody tr th {\n",
       "        vertical-align: top;\n",
       "    }\n",
       "\n",
       "    .dataframe thead th {\n",
       "        text-align: right;\n",
       "    }\n",
       "</style>\n",
       "<table border=\"1\" class=\"dataframe\">\n",
       "  <thead>\n",
       "    <tr style=\"text-align: right;\">\n",
       "      <th></th>\n",
       "      <th>id_code</th>\n",
       "      <th>diagnosis</th>\n",
       "    </tr>\n",
       "  </thead>\n",
       "  <tbody>\n",
       "    <tr>\n",
       "      <th>0</th>\n",
       "      <td>0005cfc8afb6</td>\n",
       "      <td>0</td>\n",
       "    </tr>\n",
       "    <tr>\n",
       "      <th>1</th>\n",
       "      <td>003f0afdcd15</td>\n",
       "      <td>0</td>\n",
       "    </tr>\n",
       "    <tr>\n",
       "      <th>2</th>\n",
       "      <td>006efc72b638</td>\n",
       "      <td>0</td>\n",
       "    </tr>\n",
       "    <tr>\n",
       "      <th>3</th>\n",
       "      <td>00836aaacf06</td>\n",
       "      <td>0</td>\n",
       "    </tr>\n",
       "    <tr>\n",
       "      <th>4</th>\n",
       "      <td>009245722fa4</td>\n",
       "      <td>0</td>\n",
       "    </tr>\n",
       "    <tr>\n",
       "      <th>...</th>\n",
       "      <td>...</td>\n",
       "      <td>...</td>\n",
       "    </tr>\n",
       "    <tr>\n",
       "      <th>1923</th>\n",
       "      <td>ff2fd94448de</td>\n",
       "      <td>0</td>\n",
       "    </tr>\n",
       "    <tr>\n",
       "      <th>1924</th>\n",
       "      <td>ff4c945d9b17</td>\n",
       "      <td>0</td>\n",
       "    </tr>\n",
       "    <tr>\n",
       "      <th>1925</th>\n",
       "      <td>ff64897ac0d8</td>\n",
       "      <td>0</td>\n",
       "    </tr>\n",
       "    <tr>\n",
       "      <th>1926</th>\n",
       "      <td>ffa73465b705</td>\n",
       "      <td>0</td>\n",
       "    </tr>\n",
       "    <tr>\n",
       "      <th>1927</th>\n",
       "      <td>ffdc2152d455</td>\n",
       "      <td>0</td>\n",
       "    </tr>\n",
       "  </tbody>\n",
       "</table>\n",
       "<p>1928 rows × 2 columns</p>\n",
       "</div>"
      ],
      "text/plain": [
       "           id_code  diagnosis\n",
       "0     0005cfc8afb6          0\n",
       "1     003f0afdcd15          0\n",
       "2     006efc72b638          0\n",
       "3     00836aaacf06          0\n",
       "4     009245722fa4          0\n",
       "...            ...        ...\n",
       "1923  ff2fd94448de          0\n",
       "1924  ff4c945d9b17          0\n",
       "1925  ff64897ac0d8          0\n",
       "1926  ffa73465b705          0\n",
       "1927  ffdc2152d455          0\n",
       "\n",
       "[1928 rows x 2 columns]"
      ]
     },
     "execution_count": 39,
     "metadata": {},
     "output_type": "execute_result"
    }
   ],
   "source": [
    "df_test"
   ]
  },
  {
   "cell_type": "code",
   "execution_count": 50,
   "id": "a626f99c",
   "metadata": {},
   "outputs": [],
   "source": [
    "link = 'dados_csv/dados_concatenados.csv'\n"
   ]
  },
  {
   "cell_type": "code",
   "execution_count": 51,
   "id": "0d1d595c",
   "metadata": {},
   "outputs": [],
   "source": [
    "df = pd.read_csv(link)\n"
   ]
  },
  {
   "cell_type": "code",
   "execution_count": 31,
   "id": "b3979e42",
   "metadata": {},
   "outputs": [
    {
     "data": {
      "application/vnd.microsoft.datawrangler.viewer.v0+json": {
       "columns": [
        {
         "name": "index",
         "rawType": "int64",
         "type": "integer"
        },
        {
         "name": "id_code",
         "rawType": "object",
         "type": "string"
        },
        {
         "name": "diagnosis",
         "rawType": "float64",
         "type": "float"
        }
       ],
       "ref": "59d9c86b-10aa-41d5-912a-3c3d9f6330bf",
       "rows": [
        [
         "0",
         "000c1434d8d7",
         "2.0"
        ],
        [
         "1",
         "001639a390f0",
         "4.0"
        ],
        [
         "2",
         "0024cdab0c1e",
         "1.0"
        ],
        [
         "3",
         "002c21358ce6",
         "0.0"
        ],
        [
         "4",
         "005b95c28852",
         "0.0"
        ],
        [
         "5",
         "0083ee8054ee",
         "4.0"
        ],
        [
         "6",
         "0097f532ac9f",
         "0.0"
        ],
        [
         "7",
         "00a8624548a9",
         "2.0"
        ],
        [
         "8",
         "00b74780d31d",
         "2.0"
        ],
        [
         "9",
         "00cb6555d108",
         "1.0"
        ],
        [
         "10",
         "00cc2b75cddd",
         "0.0"
        ],
        [
         "11",
         "00e4ddff966a",
         "2.0"
        ],
        [
         "12",
         "00f6c1be5a33",
         "0.0"
        ],
        [
         "13",
         "0104b032c141",
         "3.0"
        ],
        [
         "14",
         "0124dffecf29",
         "1.0"
        ],
        [
         "15",
         "0125fbd2e791",
         "0.0"
        ],
        [
         "16",
         "012a242ac6ff",
         "2.0"
        ],
        [
         "17",
         "014508ccb9cb",
         "0.0"
        ],
        [
         "18",
         "0151781fe50b",
         "0.0"
        ],
        [
         "19",
         "0161338f53cc",
         "2.0"
        ],
        [
         "20",
         "0180bfa26c0b",
         "2.0"
        ],
        [
         "21",
         "0182152c50de",
         "0.0"
        ],
        [
         "22",
         "01b3aed3ed4c",
         "1.0"
        ],
        [
         "23",
         "01c7808d901d",
         "2.0"
        ],
        [
         "24",
         "01d9477b1171",
         "0.0"
        ],
        [
         "25",
         "01eb826f6467",
         "2.0"
        ],
        [
         "26",
         "01f7bb8be950",
         "0.0"
        ],
        [
         "27",
         "0212dd31f623",
         "0.0"
        ],
        [
         "28",
         "022f820027b8",
         "0.0"
        ],
        [
         "29",
         "0231642cf1c2",
         "0.0"
        ],
        [
         "30",
         "0232dfea7547",
         "0.0"
        ],
        [
         "31",
         "02358b47ea89",
         "0.0"
        ],
        [
         "32",
         "0243404e8a00",
         "4.0"
        ],
        [
         "33",
         "025a169a0bb0",
         "2.0"
        ],
        [
         "34",
         "02685f13cefd",
         "4.0"
        ],
        [
         "35",
         "026dcd9af143",
         "2.0"
        ],
        [
         "36",
         "02cd34a85b24",
         "0.0"
        ],
        [
         "37",
         "02da652c74b8",
         "0.0"
        ],
        [
         "38",
         "02dda30d3acf",
         "4.0"
        ],
        [
         "39",
         "0304bedad8fe",
         "0.0"
        ],
        [
         "40",
         "0318598cfd16",
         "4.0"
        ],
        [
         "41",
         "032d7b0b4bf6",
         "2.0"
        ],
        [
         "42",
         "033f2b43de6d",
         "2.0"
        ],
        [
         "43",
         "034cb07a550f",
         "4.0"
        ],
        [
         "44",
         "03676c71ed1b",
         "2.0"
        ],
        [
         "45",
         "0369f3efe69b",
         "1.0"
        ],
        [
         "46",
         "03747397839f",
         "2.0"
        ],
        [
         "47",
         "03a7f4a5786f",
         "4.0"
        ],
        [
         "48",
         "03b373718013",
         "0.0"
        ],
        [
         "49",
         "03c85870824c",
         "3.0"
        ]
       ],
       "shape": {
        "columns": 2,
        "rows": 5590
       }
      },
      "text/html": [
       "<div>\n",
       "<style scoped>\n",
       "    .dataframe tbody tr th:only-of-type {\n",
       "        vertical-align: middle;\n",
       "    }\n",
       "\n",
       "    .dataframe tbody tr th {\n",
       "        vertical-align: top;\n",
       "    }\n",
       "\n",
       "    .dataframe thead th {\n",
       "        text-align: right;\n",
       "    }\n",
       "</style>\n",
       "<table border=\"1\" class=\"dataframe\">\n",
       "  <thead>\n",
       "    <tr style=\"text-align: right;\">\n",
       "      <th></th>\n",
       "      <th>id_code</th>\n",
       "      <th>diagnosis</th>\n",
       "    </tr>\n",
       "  </thead>\n",
       "  <tbody>\n",
       "    <tr>\n",
       "      <th>0</th>\n",
       "      <td>000c1434d8d7</td>\n",
       "      <td>2.0</td>\n",
       "    </tr>\n",
       "    <tr>\n",
       "      <th>1</th>\n",
       "      <td>001639a390f0</td>\n",
       "      <td>4.0</td>\n",
       "    </tr>\n",
       "    <tr>\n",
       "      <th>2</th>\n",
       "      <td>0024cdab0c1e</td>\n",
       "      <td>1.0</td>\n",
       "    </tr>\n",
       "    <tr>\n",
       "      <th>3</th>\n",
       "      <td>002c21358ce6</td>\n",
       "      <td>0.0</td>\n",
       "    </tr>\n",
       "    <tr>\n",
       "      <th>4</th>\n",
       "      <td>005b95c28852</td>\n",
       "      <td>0.0</td>\n",
       "    </tr>\n",
       "    <tr>\n",
       "      <th>...</th>\n",
       "      <td>...</td>\n",
       "      <td>...</td>\n",
       "    </tr>\n",
       "    <tr>\n",
       "      <th>5585</th>\n",
       "      <td>ff2fd94448de</td>\n",
       "      <td>NaN</td>\n",
       "    </tr>\n",
       "    <tr>\n",
       "      <th>5586</th>\n",
       "      <td>ff4c945d9b17</td>\n",
       "      <td>NaN</td>\n",
       "    </tr>\n",
       "    <tr>\n",
       "      <th>5587</th>\n",
       "      <td>ff64897ac0d8</td>\n",
       "      <td>NaN</td>\n",
       "    </tr>\n",
       "    <tr>\n",
       "      <th>5588</th>\n",
       "      <td>ffa73465b705</td>\n",
       "      <td>NaN</td>\n",
       "    </tr>\n",
       "    <tr>\n",
       "      <th>5589</th>\n",
       "      <td>ffdc2152d455</td>\n",
       "      <td>NaN</td>\n",
       "    </tr>\n",
       "  </tbody>\n",
       "</table>\n",
       "<p>5590 rows × 2 columns</p>\n",
       "</div>"
      ],
      "text/plain": [
       "           id_code  diagnosis\n",
       "0     000c1434d8d7        2.0\n",
       "1     001639a390f0        4.0\n",
       "2     0024cdab0c1e        1.0\n",
       "3     002c21358ce6        0.0\n",
       "4     005b95c28852        0.0\n",
       "...            ...        ...\n",
       "5585  ff2fd94448de        NaN\n",
       "5586  ff4c945d9b17        NaN\n",
       "5587  ff64897ac0d8        NaN\n",
       "5588  ffa73465b705        NaN\n",
       "5589  ffdc2152d455        NaN\n",
       "\n",
       "[5590 rows x 2 columns]"
      ]
     },
     "execution_count": 31,
     "metadata": {},
     "output_type": "execute_result"
    }
   ],
   "source": [
    "df"
   ]
  },
  {
   "cell_type": "code",
   "execution_count": 52,
   "id": "9f917983",
   "metadata": {},
   "outputs": [
    {
     "name": "stdout",
     "output_type": "stream",
     "text": [
      "<class 'pandas.core.frame.DataFrame'>\n",
      "RangeIndex: 5590 entries, 0 to 5589\n",
      "Data columns (total 2 columns):\n",
      " #   Column     Non-Null Count  Dtype \n",
      "---  ------     --------------  ----- \n",
      " 0   id_code    5590 non-null   object\n",
      " 1   diagnosis  5590 non-null   int64 \n",
      "dtypes: int64(1), object(1)\n",
      "memory usage: 87.5+ KB\n"
     ]
    }
   ],
   "source": [
    "df.info()"
   ]
  },
  {
   "cell_type": "code",
   "execution_count": null,
   "id": "5be5bbd4",
   "metadata": {},
   "outputs": [],
   "source": [
    "df_final = pd.concat([df_train, df_test], ignore_index=True)\n",
    "\n",
    "# Salvar em CSV\n",
    "df_final.to_csv('dados_csv/dados_concatenados.csv', index=False)"
   ]
  }
 ],
 "metadata": {
  "kernelspec": {
   "display_name": "base",
   "language": "python",
   "name": "python3"
  },
  "language_info": {
   "codemirror_mode": {
    "name": "ipython",
    "version": 3
   },
   "file_extension": ".py",
   "mimetype": "text/x-python",
   "name": "python",
   "nbconvert_exporter": "python",
   "pygments_lexer": "ipython3",
   "version": "3.12.7"
  }
 },
 "nbformat": 4,
 "nbformat_minor": 5
}
